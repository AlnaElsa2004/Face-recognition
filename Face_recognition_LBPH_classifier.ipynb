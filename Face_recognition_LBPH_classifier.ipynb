{
  "nbformat": 4,
  "nbformat_minor": 0,
  "metadata": {
    "colab": {
      "provenance": []
    },
    "kernelspec": {
      "name": "python3",
      "display_name": "Python 3"
    },
    "language_info": {
      "name": "python"
    }
  },
  "cells": [
    {
      "cell_type": "markdown",
      "source": [
        "# Face detection with LBPH and openCV"
      ],
      "metadata": {
        "id": "PoHaa9ZAT22A"
      }
    },
    {
      "cell_type": "markdown",
      "source": [
        "Face recognition using the LBPH (Local Binary Patterns Histograms) classifier with OpenCV is a simple yet effective method that works by analyzing the texture of a face. It divides the face image into smaller regions, computes Local Binary Patterns (LBP) for each, and forms a histogram representing the facial features. These histograms are used to recognize faces by comparing them with stored patterns."
      ],
      "metadata": {
        "id": "ycpgE9XvvQhZ"
      }
    },
    {
      "cell_type": "markdown",
      "source": [
        "Import necessary libraries"
      ],
      "metadata": {
        "id": "n_TdyP-pUCg2"
      }
    },
    {
      "cell_type": "code",
      "execution_count": 1,
      "metadata": {
        "colab": {
          "base_uri": "https://localhost:8080/"
        },
        "id": "g7U2LzIUTw1k",
        "outputId": "dfebab38-8858-4f84-d670-9c037154df0a"
      },
      "outputs": [
        {
          "output_type": "stream",
          "name": "stdout",
          "text": [
            "Mounted at /content/drive\n"
          ]
        }
      ],
      "source": [
        "from PIL import Image\n",
        "import cv2\n",
        "import numpy as np\n",
        "from google.colab.patches import cv2_imshow\n",
        "from google.colab import drive\n",
        "drive.mount('/content/drive')"
      ]
    },
    {
      "cell_type": "code",
      "source": [
        "!mkdir /content/my_new_folder"
      ],
      "metadata": {
        "id": "0WoqTU4MUs-h"
      },
      "execution_count": 2,
      "outputs": []
    },
    {
      "cell_type": "code",
      "source": [
        "import zipfile\n",
        "path='/content/my_new_folder/yalefaces.zip' #which is a dataset from university of yale used for face recognition\n",
        "zip_object=zipfile.ZipFile(file=path,mode='r') #uncompress the zip file\n",
        "zip_object.extractall('./')\n",
        "zip_object.close()"
      ],
      "metadata": {
        "id": "h4yzHB0BbeOz"
      },
      "execution_count": 3,
      "outputs": []
    },
    {
      "cell_type": "markdown",
      "source": [
        "## **Preprocessing the images**"
      ],
      "metadata": {
        "id": "x_RAYFJ4eBdN"
      }
    },
    {
      "cell_type": "code",
      "source": [
        "import os\n",
        "print(os.listdir('/content/yalefaces/train'))"
      ],
      "metadata": {
        "colab": {
          "base_uri": "https://localhost:8080/"
        },
        "id": "aPgJ-o_xdQG3",
        "outputId": "01700721-7abe-450d-f818-617e308f8dc0"
      },
      "execution_count": 4,
      "outputs": [
        {
          "output_type": "stream",
          "name": "stdout",
          "text": [
            "['subject14.wink.gif', 'subject15.leftlight.gif', 'subject15.wink.gif', 'subject04.noglasses.gif', 'subject05.leftlight.gif', 'subject05.normal.gif', 'subject08.sleepy.gif', 'subject05.centerlight.gif', 'subject12.centerlight.gif', 'subject14.rightlight.gif', 'subject07.surprised.gif', 'subject13.centerlight.gif', 'subject12.surprised.gif', 'subject13.wink.gif', 'subject06.surprised.gif', 'subject14.glasses.gif', 'subject10.surprised.gif', 'subject03.noglasses.gif', 'subject02.noglasses.gif', 'subject12.sleepy.gif', 'subject14.happy.gif', 'subject05.happy.gif', 'subject01.rightlight.gif', 'subject08.wink.gif', 'subject09.glasses.gif', 'subject15.noglasses.gif', 'subject01.surprised.gif', 'subject11.normal.gif', 'subject14.surprised.gif', 'subject06.sad.gif', 'subject11.wink.gif', 'subject01.normal.gif', 'subject08.sad.gif', 'subject10.normal.gif', 'subject07.sleepy.gif', 'subject15.centerlight.gif', 'subject05.noglasses.gif', 'subject03.surprised.gif', 'subject10.noglasses.gif', 'subject08.happy.gif', 'subject15.glasses.gif', 'subject09.surprised.gif', 'subject09.sleepy.gif', 'subject10.wink.gif', 'subject04.rightlight.gif', 'subject03.rightlight.gif', 'subject04.glasses.gif', 'subject03.wink.gif', 'subject09.noglasses.gif', 'subject03.happy.gif', 'subject07.noglasses.gif', 'subject14.leftlight.gif', 'subject11.noglasses.gif', 'subject13.surprised.gif', 'subject02.sleepy.gif', 'subject13.leftlight.gif', 'subject11.rightlight.gif', 'subject02.glasses.gif', 'subject08.noglasses.gif', 'subject07.sad.gif', 'subject06.centerlight.gif', 'subject11.leftlight.gif', 'subject07.wink.gif', 'subject05.glasses.gif', 'subject12.wink.gif', 'subject14.centerlight.gif', 'subject06.rightlight.gif', 'subject06.sleepy.gif', 'subject12.noglasses.gif', 'subject10.sleepy.gif', 'subject14.noglasses.gif', 'subject03.centerlight.gif', 'subject07.glasses.gif', 'subject11.surprised.gif', 'subject02.surprised.gif', 'subject04.happy.gif', 'subject02.happy.gif', 'subject10.leftlight.gif', 'subject01.leftlight.gif', 'subject09.centerlight.gif', 'subject03.sleepy.gif', 'subject11.sad.gif', 'subject14.sleepy.gif', 'subject10.glasses.gif', 'subject04.normal.gif', 'subject01.glasses.gif', 'subject06.wink.gif', 'subject01.wink.gif', 'subject10.rightlight.gif', 'subject04.sad.gif', 'subject01.noglasses.gif', 'subject03.normal.gif', 'subject06.normal.gif', 'subject09.happy.gif', 'subject13.glasses.gif', 'subject03.sad.gif', 'subject02.sad.gif', 'subject13.happy.gif', 'subject12.happy.gif', 'subject02.wink.gif', 'subject01.sad.gif', 'subject15.normal.gif', 'subject04.centerlight.gif', 'subject09.wink.gif', 'subject05.rightlight.gif', 'subject15.surprised.gif', 'subject13.normal.gif', 'subject09.normal.gif', 'subject07.rightlight.gif', 'subject15.sleepy.gif', 'subject05.sad.gif', 'subject09.leftlight.gif', 'subject11.centerlight.gif', 'subject11.sleepy.gif', 'subject15.happy.gif', 'subject01.sleepy.gif', 'subject08.centerlight.gif', 'subject07.normal.gif', 'subject02.normal.gif', 'subject04.sleepy.gif', 'subject08.glasses.gif', 'subject02.rightlight.gif', 'subject04.wink.gif', 'subject08.surprised.gif', 'subject06.noglasses.gif', 'subject12.leftlight.gif', 'subject07.centerlight.gif', 'subject13.rightlight.gif', 'subject08.leftlight.gif', 'subject12.sad.gif', 'subject10.happy.gif', 'subject05.wink.gif', 'subject06.glasses.gif', 'subject13.noglasses.gif', 'subject12.glasses.gif']\n"
          ]
        }
      ]
    },
    {
      "cell_type": "markdown",
      "source": [
        "Creating a function to go through each images in the train folder"
      ],
      "metadata": {
        "id": "MNKMbkW1euIA"
      }
    },
    {
      "cell_type": "code",
      "source": [
        "def get_image_data():\n",
        "  paths=[os.path.join('/content/yalefaces/train',f) for f in os.listdir('/content/yalefaces/train')]\n",
        "  #print(paths)\n",
        "  faces=[] #to store imfo(pixels) about the image\n",
        "  ids=[] #to store name of classes\n",
        "  for path in paths:\n",
        "    image=Image.open(path).convert('L') #inorder to convert a colored image to a grayscale image\n",
        "    image_np=np.array(image,'uint8') #converting to numpy array\n",
        "    id=int(os.path.split(path)[1].split('.')[0].replace('subject','')) #to get the class of each image\n",
        "    ids.append(id)\n",
        "    faces.append(image_np)\n",
        "  return np.array(ids),faces"
      ],
      "metadata": {
        "id": "SuqVxMJiea4P"
      },
      "execution_count": 7,
      "outputs": []
    },
    {
      "cell_type": "code",
      "source": [
        "ids,faces=get_image_data()"
      ],
      "metadata": {
        "id": "Lqd2AHSifCGw"
      },
      "execution_count": 8,
      "outputs": []
    },
    {
      "cell_type": "code",
      "source": [
        "ids\n"
      ],
      "metadata": {
        "colab": {
          "base_uri": "https://localhost:8080/"
        },
        "id": "fssQ-hPffFgW",
        "outputId": "8e55b506-34aa-4910-e3f1-90b00ab92e9c"
      },
      "execution_count": 9,
      "outputs": [
        {
          "output_type": "execute_result",
          "data": {
            "text/plain": [
              "array([14, 15, 15,  4,  5,  5,  8,  5, 12, 14,  7, 13, 12, 13,  6, 14, 10,\n",
              "        3,  2, 12, 14,  5,  1,  8,  9, 15,  1, 11, 14,  6, 11,  1,  8, 10,\n",
              "        7, 15,  5,  3, 10,  8, 15,  9,  9, 10,  4,  3,  4,  3,  9,  3,  7,\n",
              "       14, 11, 13,  2, 13, 11,  2,  8,  7,  6, 11,  7,  5, 12, 14,  6,  6,\n",
              "       12, 10, 14,  3,  7, 11,  2,  4,  2, 10,  1,  9,  3, 11, 14, 10,  4,\n",
              "        1,  6,  1, 10,  4,  1,  3,  6,  9, 13,  3,  2, 13, 12,  2,  1, 15,\n",
              "        4,  9,  5, 15, 13,  9,  7, 15,  5,  9, 11, 11, 15,  1,  8,  7,  2,\n",
              "        4,  8,  2,  4,  8,  6, 12,  7, 13,  8, 12, 10,  5,  6, 13, 12])"
            ]
          },
          "metadata": {},
          "execution_count": 9
        }
      ]
    },
    {
      "cell_type": "code",
      "source": [
        "len(ids) #number of images"
      ],
      "metadata": {
        "colab": {
          "base_uri": "https://localhost:8080/"
        },
        "id": "u7z9y6aYilSj",
        "outputId": "ac71e3af-975a-4d0d-9af2-84a1fc7607b9"
      },
      "execution_count": 11,
      "outputs": [
        {
          "output_type": "execute_result",
          "data": {
            "text/plain": [
              "135"
            ]
          },
          "metadata": {},
          "execution_count": 11
        }
      ]
    },
    {
      "cell_type": "code",
      "source": [
        "len(faces)"
      ],
      "metadata": {
        "colab": {
          "base_uri": "https://localhost:8080/"
        },
        "id": "FKiisRCXinCy",
        "outputId": "95b45e59-f953-4774-8521-0911f49ea029"
      },
      "execution_count": 13,
      "outputs": [
        {
          "output_type": "execute_result",
          "data": {
            "text/plain": [
              "135"
            ]
          },
          "metadata": {},
          "execution_count": 13
        }
      ]
    },
    {
      "cell_type": "code",
      "source": [
        "faces[0],faces[0].shape"
      ],
      "metadata": {
        "colab": {
          "base_uri": "https://localhost:8080/"
        },
        "id": "RyiGUJ10ircs",
        "outputId": "2464f57f-a47f-4cf3-911a-d547856b3226"
      },
      "execution_count": 14,
      "outputs": [
        {
          "output_type": "execute_result",
          "data": {
            "text/plain": [
              "(array([[130, 130, 130, ..., 255, 255, 255],\n",
              "        [255, 255, 255, ..., 255, 255, 255],\n",
              "        [255, 255, 255, ..., 255, 241, 241],\n",
              "        ...,\n",
              "        [255, 255, 255, ..., 255, 255, 255],\n",
              "        [255, 255, 255, ..., 255, 255, 255],\n",
              "        [ 68,  68,  68, ...,  68,  68,  68]], dtype=uint8),\n",
              " (243, 320))"
            ]
          },
          "metadata": {},
          "execution_count": 14
        }
      ]
    },
    {
      "cell_type": "markdown",
      "source": [
        "## Training the LBPH classifier"
      ],
      "metadata": {
        "id": "fcSjUrbtjAq7"
      }
    },
    {
      "cell_type": "code",
      "source": [
        "#threshold:1.797\n",
        "#radius:1\n",
        "#neighbors:8\n",
        "#grid_x:8\n",
        "#grid_y:8\n",
        "lbph_classifier=cv2.face.LBPHFaceRecognizer_create(radius=4,neighbors=14,grid_x=9,grid_y=9)\n",
        "lbph_classifier.train(faces,ids)\n",
        "lbph_classifier.write('lbph_classifier.yml')"
      ],
      "metadata": {
        "id": "fwsPFfbVi4x8"
      },
      "execution_count": 43,
      "outputs": []
    },
    {
      "cell_type": "markdown",
      "source": [
        "## Recognizing faces"
      ],
      "metadata": {
        "id": "k0_3AGIbkXn2"
      }
    },
    {
      "cell_type": "code",
      "source": [
        "lbph_face_classifier=cv2.face.LBPHFaceRecognizer_create()\n",
        "lbph_face_classifier.read('/content/lbph_classifier.yml')"
      ],
      "metadata": {
        "id": "YKHtTp5ekD_s"
      },
      "execution_count": 44,
      "outputs": []
    },
    {
      "cell_type": "markdown",
      "source": [
        "Testing an image with the trained file\n",
        "\n",
        "\n",
        "\n"
      ],
      "metadata": {
        "id": "GeR_ZXpUlDAV"
      }
    },
    {
      "cell_type": "code",
      "source": [
        "test_image='/content/yalefaces/test/subject10.sad.gif'"
      ],
      "metadata": {
        "id": "KnUQmYY7k8RV"
      },
      "execution_count": 17,
      "outputs": []
    },
    {
      "cell_type": "code",
      "source": [
        "image=Image.open(test_image).convert('L') #inorder to convert to grayscale\n",
        "image_np=np.array(image,'uint8') #inorder to convert the image type to a numpy array\n",
        "image_np"
      ],
      "metadata": {
        "colab": {
          "base_uri": "https://localhost:8080/",
          "height": 158
        },
        "id": "DIEsOSdSlYRM",
        "outputId": "db48b6f9-703e-4bd5-f8d6-260473f44c02"
      },
      "execution_count": 18,
      "outputs": [
        {
          "output_type": "execute_result",
          "data": {
            "text/plain": [
              "array([[130, 130, 130, ..., 255, 255, 255],\n",
              "       [255, 255, 255, ..., 255, 255, 255],\n",
              "       [255, 255, 255, ..., 255, 255, 255],\n",
              "       ...,\n",
              "       [255, 255, 255, ..., 241, 255, 255],\n",
              "       [255, 255, 255, ..., 234, 237, 252],\n",
              "       [ 68,  68,  68, ...,  68,  68,  68]], dtype=uint8)"
            ],
            "text/html": [
              "<style>\n",
              "      .ndarray_repr .ndarray_raw_data {\n",
              "        display: none;\n",
              "      }\n",
              "      .ndarray_repr.show_array .ndarray_raw_data {\n",
              "        display: block;\n",
              "      }\n",
              "      .ndarray_repr.show_array .ndarray_image_preview {\n",
              "        display: none;\n",
              "      }\n",
              "      </style>\n",
              "      <div id=\"id-441479aa-662a-4467-9c73-b909125c8544\" class=\"ndarray_repr\"><pre>ndarray (243, 320) <button style=\"padding: 0 2px;\">show data</button></pre><img src=\"data:image/png;base64,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\" class=\"ndarray_image_preview\" /><pre class=\"ndarray_raw_data\">array([[130, 130, 130, ..., 255, 255, 255],\n",
              "       [255, 255, 255, ..., 255, 255, 255],\n",
              "       [255, 255, 255, ..., 255, 255, 255],\n",
              "       ...,\n",
              "       [255, 255, 255, ..., 241, 255, 255],\n",
              "       [255, 255, 255, ..., 234, 237, 252],\n",
              "       [ 68,  68,  68, ...,  68,  68,  68]], dtype=uint8)</pre></div><script>\n",
              "      (() => {\n",
              "      const titles = ['show data', 'hide data'];\n",
              "      let index = 0\n",
              "      document.querySelector('#id-441479aa-662a-4467-9c73-b909125c8544 button').onclick = (e) => {\n",
              "        document.querySelector('#id-441479aa-662a-4467-9c73-b909125c8544').classList.toggle('show_array');\n",
              "        index = (++index) % 2;\n",
              "        document.querySelector('#id-441479aa-662a-4467-9c73-b909125c8544 button').textContent = titles[index];\n",
              "        e.preventDefault();\n",
              "        e.stopPropagation();\n",
              "      }\n",
              "      })();\n",
              "    </script>"
            ]
          },
          "metadata": {},
          "execution_count": 18
        }
      ]
    },
    {
      "cell_type": "code",
      "source": [
        "image_np.shape"
      ],
      "metadata": {
        "colab": {
          "base_uri": "https://localhost:8080/"
        },
        "id": "VFM6rKoxl8SE",
        "outputId": "03d7dd13-b2ec-4698-e238-dbef94a3ee85"
      },
      "execution_count": 20,
      "outputs": [
        {
          "output_type": "execute_result",
          "data": {
            "text/plain": [
              "(243, 320)"
            ]
          },
          "metadata": {},
          "execution_count": 20
        }
      ]
    },
    {
      "cell_type": "code",
      "source": [
        "prediction=lbph_face_classifier.predict(image_np)\n",
        "prediction"
      ],
      "metadata": {
        "colab": {
          "base_uri": "https://localhost:8080/"
        },
        "id": "z-7quzPrmDdr",
        "outputId": "d123dba5-c416-4dab-cd7a-9543f7b970c7"
      },
      "execution_count": 21,
      "outputs": [
        {
          "output_type": "execute_result",
          "data": {
            "text/plain": [
              "(10, 6.384336446373091)"
            ]
          },
          "metadata": {},
          "execution_count": 21
        }
      ]
    },
    {
      "cell_type": "markdown",
      "source": [
        "so the algorithm could correctly classify the image because the number '10' equals the class and the other number is the confidence"
      ],
      "metadata": {
        "id": "DqtXcnq4mXs_"
      }
    },
    {
      "cell_type": "code",
      "source": [
        "expected_output=int(os.path.split(test_image)[1].split('.')[0].replace('subject',''))\n",
        "expected_output"
      ],
      "metadata": {
        "colab": {
          "base_uri": "https://localhost:8080/"
        },
        "id": "4pWNINAgmU22",
        "outputId": "a6a59930-3add-437d-f166-d7cc5c532b19"
      },
      "execution_count": 22,
      "outputs": [
        {
          "output_type": "execute_result",
          "data": {
            "text/plain": [
              "10"
            ]
          },
          "metadata": {},
          "execution_count": 22
        }
      ]
    },
    {
      "cell_type": "code",
      "source": [
        "cv2.putText(image_np,'Pred:'+ str(prediction[0]), (10,30), cv2.FONT_HERSHEY_COMPLEX_SMALL,1,(0,255,0))\n",
        "cv2.putText(image_np,'Exp:'+ str(expected_output), (10,50), cv2.FONT_HERSHEY_COMPLEX_SMALL,1,(0,255,0))\n",
        "cv2_imshow(image_np)\n"
      ],
      "metadata": {
        "colab": {
          "base_uri": "https://localhost:8080/",
          "height": 260
        },
        "id": "pY17CHl4m53O",
        "outputId": "e1868722-59cb-4c65-e1ba-9afbd14f6551"
      },
      "execution_count": 23,
      "outputs": [
        {
          "output_type": "display_data",
          "data": {
            "text/plain": [
              "<PIL.Image.Image image mode=L size=320x243>"
            ],
            "image/png": "[encoded data removed]",
            "image/jpeg": "[encoded data removed]"
          },
          "metadata": {}
        }
      ]
    },
    {
      "cell_type": "markdown",
      "source": [
        "## Evaluating the face classifier"
      ],
      "metadata": {
        "id": "Y5fhxx2noBLs"
      }
    },
    {
      "cell_type": "code",
      "source": [
        "paths=[os.path.join('/content/yalefaces/test',f) for f in os.listdir('/content/yalefaces/test')]\n",
        "predictions=[]\n",
        "expected_outputs=[]\n",
        "for path in paths:\n",
        "  image=Image.open(path).convert('L')\n",
        "  image_np=np.array(image,'uint8')\n",
        "  prediction,_=lbph_face_classifier.predict(image_np)\n",
        "  expected_output=int(os.path.split(path)[1].split('.')[0].replace('subject',''))\n",
        "  predictions.append(prediction)\n",
        "  expected_outputs.append(expected_output)"
      ],
      "metadata": {
        "id": "zQ2hKKSynyds"
      },
      "execution_count": 45,
      "outputs": []
    },
    {
      "cell_type": "code",
      "source": [
        "type(predictions)"
      ],
      "metadata": {
        "colab": {
          "base_uri": "https://localhost:8080/"
        },
        "id": "MwBfFndwpdMB",
        "outputId": "5b672842-6c9d-4d76-b7d8-a4c9d60e8268"
      },
      "execution_count": 39,
      "outputs": [
        {
          "output_type": "execute_result",
          "data": {
            "text/plain": [
              "list"
            ]
          },
          "metadata": {},
          "execution_count": 39
        }
      ]
    },
    {
      "cell_type": "code",
      "source": [
        "predictions=np.array(predictions)\n",
        "expected_outputs=np.array(expected_outputs)"
      ],
      "metadata": {
        "id": "_o21W5djpfj6"
      },
      "execution_count": 40,
      "outputs": []
    },
    {
      "cell_type": "code",
      "source": [
        "type(predictions)"
      ],
      "metadata": {
        "colab": {
          "base_uri": "https://localhost:8080/"
        },
        "id": "s6J9-73Mpr3k",
        "outputId": "6cfa302d-5e4f-497a-aa46-35bff0e146ab"
      },
      "execution_count": 41,
      "outputs": [
        {
          "output_type": "execute_result",
          "data": {
            "text/plain": [
              "numpy.ndarray"
            ]
          },
          "metadata": {},
          "execution_count": 41
        }
      ]
    },
    {
      "cell_type": "code",
      "source": [
        "predictions"
      ],
      "metadata": {
        "colab": {
          "base_uri": "https://localhost:8080/"
        },
        "id": "YNANKGy-pvPh",
        "outputId": "f887ae1b-c368-4319-953b-1196a31ea2fc"
      },
      "execution_count": 28,
      "outputs": [
        {
          "output_type": "execute_result",
          "data": {
            "text/plain": [
              "array([11,  8, 13,  5, 11, 10,  4,  7, 14,  5,  9,  9, 14, 12,  6,  9, 14,\n",
              "       13,  4,  7,  4,  4, 12,  5,  1,  3,  1, 15,  9,  7])"
            ]
          },
          "metadata": {},
          "execution_count": 28
        }
      ]
    },
    {
      "cell_type": "code",
      "source": [
        "expected_outputs"
      ],
      "metadata": {
        "colab": {
          "base_uri": "https://localhost:8080/"
        },
        "id": "6UJ77kTBpwg4",
        "outputId": "4ab52e4d-e0df-4869-962c-a398c2038e69"
      },
      "execution_count": 29,
      "outputs": [
        {
          "output_type": "execute_result",
          "data": {
            "text/plain": [
              "array([11,  8, 13,  5, 11, 10,  8, 15,  6,  5,  3,  9, 14, 12,  6,  4, 14,\n",
              "       13,  4,  7,  2, 10, 12,  2,  1,  3,  1, 15,  7,  9])"
            ]
          },
          "metadata": {},
          "execution_count": 29
        }
      ]
    },
    {
      "cell_type": "code",
      "source": [
        "from sklearn.metrics import accuracy_score\n",
        "accuracy_score(expected_outputs,predictions)"
      ],
      "metadata": {
        "colab": {
          "base_uri": "https://localhost:8080/"
        },
        "id": "o-E9G6Xkp0pF",
        "outputId": "ff274407-b908-4174-cd0a-60f4892e2032"
      },
      "execution_count": 46,
      "outputs": [
        {
          "output_type": "execute_result",
          "data": {
            "text/plain": [
              "0.7"
            ]
          },
          "metadata": {},
          "execution_count": 46
        }
      ]
    },
    {
      "cell_type": "markdown",
      "source": [
        "There are 15 classes and the algorithm could correctly predict 66% of the classes"
      ],
      "metadata": {
        "id": "0RLUquD-qKkb"
      }
    },
    {
      "cell_type": "code",
      "source": [
        "len(predictions)"
      ],
      "metadata": {
        "colab": {
          "base_uri": "https://localhost:8080/"
        },
        "id": "Td_4hV3iqFbv",
        "outputId": "582ad9d7-9a38-46b6-8c23-a64a1d692364"
      },
      "execution_count": 31,
      "outputs": [
        {
          "output_type": "execute_result",
          "data": {
            "text/plain": [
              "30"
            ]
          },
          "metadata": {},
          "execution_count": 31
        }
      ]
    },
    {
      "cell_type": "markdown",
      "source": [
        "Confusion matrix"
      ],
      "metadata": {
        "id": "lirZD7VWqjUS"
      }
    },
    {
      "cell_type": "code",
      "source": [
        "from sklearn.metrics import confusion_matrix\n",
        "cm=confusion_matrix(expected_outputs,predictions)\n",
        "cm"
      ],
      "metadata": {
        "colab": {
          "base_uri": "https://localhost:8080/"
        },
        "id": "RyOANPlMqUaF",
        "outputId": "f2f29f95-9022-4246-893d-29d3973864e8"
      },
      "execution_count": 32,
      "outputs": [
        {
          "output_type": "execute_result",
          "data": {
            "text/plain": [
              "array([[2, 0, 0, 0, 0, 0, 0, 0, 0, 0, 0, 0, 0, 0, 0],\n",
              "       [0, 0, 0, 1, 1, 0, 0, 0, 0, 0, 0, 0, 0, 0, 0],\n",
              "       [0, 0, 1, 0, 0, 0, 0, 0, 1, 0, 0, 0, 0, 0, 0],\n",
              "       [0, 0, 0, 1, 0, 0, 0, 0, 1, 0, 0, 0, 0, 0, 0],\n",
              "       [0, 0, 0, 0, 2, 0, 0, 0, 0, 0, 0, 0, 0, 0, 0],\n",
              "       [0, 0, 0, 0, 0, 1, 0, 0, 0, 0, 0, 0, 0, 1, 0],\n",
              "       [0, 0, 0, 0, 0, 0, 1, 0, 1, 0, 0, 0, 0, 0, 0],\n",
              "       [0, 0, 0, 1, 0, 0, 0, 1, 0, 0, 0, 0, 0, 0, 0],\n",
              "       [0, 0, 0, 0, 0, 0, 1, 0, 1, 0, 0, 0, 0, 0, 0],\n",
              "       [0, 0, 0, 1, 0, 0, 0, 0, 0, 1, 0, 0, 0, 0, 0],\n",
              "       [0, 0, 0, 0, 0, 0, 0, 0, 0, 0, 2, 0, 0, 0, 0],\n",
              "       [0, 0, 0, 0, 0, 0, 0, 0, 0, 0, 0, 2, 0, 0, 0],\n",
              "       [0, 0, 0, 0, 0, 0, 0, 0, 0, 0, 0, 0, 2, 0, 0],\n",
              "       [0, 0, 0, 0, 0, 0, 0, 0, 0, 0, 0, 0, 0, 2, 0],\n",
              "       [0, 0, 0, 0, 0, 0, 1, 0, 0, 0, 0, 0, 0, 0, 1]])"
            ]
          },
          "metadata": {},
          "execution_count": 32
        }
      ]
    },
    {
      "cell_type": "code",
      "source": [
        "import seaborn\n",
        "seaborn.heatmap(cm,annot=True);"
      ],
      "metadata": {
        "colab": {
          "base_uri": "https://localhost:8080/",
          "height": 435
        },
        "id": "RI9AUQIiquJx",
        "outputId": "42ad3e43-0c8a-4d03-acc7-6bb67a1c424f"
      },
      "execution_count": 34,
      "outputs": [
        {
          "output_type": "display_data",
          "data": {
            "text/plain": [
              "<Figure size 640x480 with 2 Axes>"
            ],
            "image/png": "[encoded data removed]"
          },
          "metadata": {}
        }
      ]
    },
    {
      "cell_type": "markdown",
      "source": [
        "So we can adjust the values of radius,neighbors, grid_x and grid_y inorder to get better accuracy results"
      ],
      "metadata": {
        "id": "70_lcIa-uUCS"
      }
    },
    {
      "cell_type": "code",
      "source": [],
      "metadata": {
        "id": "fy3CpG95q2PE"
      },
      "execution_count": null,
      "outputs": []
    }
  ]
}